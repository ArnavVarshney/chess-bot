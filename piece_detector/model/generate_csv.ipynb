{
 "cells": [
  {
   "cell_type": "code",
   "execution_count": 1,
   "metadata": {},
   "outputs": [],
   "source": [
    "import os"
   ]
  },
  {
   "cell_type": "code",
   "execution_count": 16,
   "metadata": {},
   "outputs": [],
   "source": [
    "# Global Var\n",
    "root_dir = \"./data\""
   ]
  },
  {
   "cell_type": "code",
   "execution_count": 14,
   "metadata": {},
   "outputs": [
    {
     "data": {
      "text/plain": [
       "['bp',\n",
       " 'bk',\n",
       " 'bb',\n",
       " 'empty',\n",
       " 'bq',\n",
       " 'wq',\n",
       " 'wb',\n",
       " 'wk',\n",
       " 'wp',\n",
       " 'bn',\n",
       " 'br',\n",
       " 'wr',\n",
       " 'wn']"
      ]
     },
     "execution_count": 14,
     "metadata": {},
     "output_type": "execute_result"
    }
   ],
   "source": [
    "# Get all folders\n",
    "files = os.listdir(dir)\n",
    "dirs = []\n",
    "\n",
    "for file in files:\n",
    "    if os.path.isdir(dir+\"/\"+file):\n",
    "        dirs.append(file)\n",
    "\n",
    "dirs"
   ]
  },
  {
   "cell_type": "code",
   "execution_count": 23,
   "metadata": {},
   "outputs": [],
   "source": [
    "# Generate the csv\n",
    "for dir in dirs:\n",
    "    images = os.listdir(root_dir+\"/\"+dir)\n",
    "\n",
    "    f = open(root_dir+\"/\"+dir+\"/labels.csv\",\"w\")\n",
    "    f.write(\"filename,\"+dir)\n",
    "    for image in images:\n",
    "        if image[image.find(\".\"):] == \".jpeg\":\n",
    "            f.write(\"\\n\"+image+\",1\")\n",
    "    f.close()"
   ]
  }
 ],
 "metadata": {
  "kernelspec": {
   "display_name": "Python 3",
   "language": "python",
   "name": "python3"
  },
  "language_info": {
   "codemirror_mode": {
    "name": "ipython",
    "version": 3
   },
   "file_extension": ".py",
   "mimetype": "text/x-python",
   "name": "python",
   "nbconvert_exporter": "python",
   "pygments_lexer": "ipython3",
   "version": "3.11.6"
  }
 },
 "nbformat": 4,
 "nbformat_minor": 2
}
